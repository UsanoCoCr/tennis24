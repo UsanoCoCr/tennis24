{
 "cells": [
  {
   "cell_type": "code",
   "execution_count": 51,
   "metadata": {},
   "outputs": [],
   "source": [
    "import pandas as pd\n",
    "import numpy as np\n",
    "import matplotlib.pyplot as plt\n",
    "%matplotlib inline\n",
    "import seaborn as sns\n",
    "import warnings\n",
    "warnings.filterwarnings('ignore')\n",
    "\n",
    "from sklearn.linear_model import Lasso\n",
    "from sklearn.linear_model import Ridge\n",
    "from sklearn.base import BaseEstimator, TransformerMixin, RegressorMixin, clone\n",
    "from sklearn.preprocessing import LabelEncoder\n",
    "from sklearn.preprocessing import RobustScaler, StandardScaler"
   ]
  },
  {
   "cell_type": "code",
   "execution_count": 52,
   "metadata": {},
   "outputs": [],
   "source": [
    "# 取出前70%作为训练集，后30%作为测试集\n",
    "file = pd.read_csv('./gru_input.csv')\n",
    "train = file[:int(0.7*len(file))]\n",
    "test = file[int(0.7*len(file)):]\n",
    "train_X = train.drop(['game_victor', 'player1_quality', 'player2_quality', 'player1_quality_squared', 'player2_quality_squared'], axis=1)\n",
    "train_y = train['game_victor']\n",
    "test_X = test.drop(['game_victor', 'player1_quality', 'player2_quality', 'player1_quality_squared', 'player2_quality_squared'], axis=1)\n",
    "test_y = test['game_victor']"
   ]
  },
  {
   "cell_type": "code",
   "execution_count": 53,
   "metadata": {},
   "outputs": [
    {
     "name": "stdout",
     "output_type": "stream",
     "text": [
      "Lasso回归模型的平均损失为： 0.403419504552349\n",
      "Lasso回归模型的准确率为： 0.8536139066788655\n"
     ]
    }
   ],
   "source": [
    "# Lasso回归模型\n",
    "lasso = Lasso(alpha =0.002)\n",
    "\n",
    "lasso.fit(train_X, train_y)\n",
    "lasso_pred = lasso.predict(test_X)\n",
    "lasso_pred = pd.DataFrame(lasso_pred)\n",
    "lasso_pred.columns = ['game_victor']\n",
    "lasso_loss = lasso_pred['game_victor']\n",
    "lasso_loss = lasso_loss.values\n",
    "average_loss = np.mean(-test_y*np.log(lasso_loss) - (1-test_y)*np.log(1-lasso_loss))\n",
    "print('Lasso回归模型的平均损失为：', average_loss)\n",
    "lasso_pred[lasso_pred['game_victor'] > 0.5] = 1\n",
    "lasso_pred[lasso_pred['game_victor'] <= 0.5] = 0\n",
    "lasso_pred = lasso_pred['game_victor']\n",
    "lasso_pred = lasso_pred.values\n",
    "\n",
    "Accuracy = np.mean(lasso_pred == test_y)\n",
    "print('Lasso回归模型的准确率为：', Accuracy)"
   ]
  },
  {
   "cell_type": "code",
   "execution_count": 54,
   "metadata": {},
   "outputs": [
    {
     "name": "stdout",
     "output_type": "stream",
     "text": [
      "Lasso回归模型的平均损失为： 0.4162872556079047\n",
      "Lasso回归模型的准确率为： 0.8413103177716752\n"
     ]
    }
   ],
   "source": [
    "# Lasso回归模型\n",
    "lasso = Lasso(alpha =0.002, random_state=1)\n",
    "\n",
    "lasso.fit(train_X, train_y)\n",
    "lasso_pred = lasso.predict(train_X)\n",
    "lasso_pred = pd.DataFrame(lasso_pred)\n",
    "lasso_pred.columns = ['game_victor']\n",
    "lasso_loss = lasso_pred['game_victor']\n",
    "lasso_loss = lasso_loss.values\n",
    "average_loss = np.mean(-train_y*np.log(lasso_loss) - (1-train_y)*np.log(1-lasso_loss))\n",
    "print('Lasso回归模型的平均损失为：', average_loss)\n",
    "lasso_pred[lasso_pred['game_victor'] > 0.5] = 1\n",
    "lasso_pred[lasso_pred['game_victor'] <= 0.5] = 0\n",
    "lasso_pred = lasso_pred['game_victor']\n",
    "lasso_pred = lasso_pred.values\n",
    "\n",
    "Accuracy = np.mean(lasso_pred == train_y)\n",
    "print('Lasso回归模型的准确率为：', Accuracy)"
   ]
  },
  {
   "cell_type": "code",
   "execution_count": 55,
   "metadata": {},
   "outputs": [
    {
     "name": "stdout",
     "output_type": "stream",
     "text": [
      "Lasso回归模型的平均损失为： 0.6842478604253733\n",
      "Lasso回归模型的准确率为： 0.75\n"
     ]
    }
   ],
   "source": [
    "pingpong = pd.read_csv('./pingpong_input.csv')\n",
    "pingpong_X = pingpong.drop(['game_victor', 'player1_quality', 'player2_quality', 'player1_quality_squared', 'player2_quality_squared'], axis=1)\n",
    "pingpong_y = pingpong['game_victor']\n",
    "pingpong_pred = lasso.predict(pingpong_X)\n",
    "pingpong_pred = pd.DataFrame(pingpong_pred)\n",
    "pingpong_pred.columns = ['game_victor']\n",
    "pingpong_loss = pingpong_pred['game_victor']\n",
    "pingpong_loss = pingpong_loss.values\n",
    "average_loss = np.mean(-pingpong_y*np.log(pingpong_loss) - (1-pingpong_y)*np.log(1-pingpong_loss))\n",
    "print('Lasso回归模型的平均损失为：', average_loss)\n",
    "pingpong_pred[pingpong_pred['game_victor'] > 0.5] = 1\n",
    "pingpong_pred[pingpong_pred['game_victor'] <= 0.5] = 0\n",
    "pingpong_pred = pingpong_pred['game_victor']\n",
    "pingpong_pred = pingpong_pred.values\n",
    "\n",
    "Accuracy = np.mean(pingpong_pred == pingpong_y)\n",
    "print('Lasso回归模型的准确率为：', Accuracy)"
   ]
  },
  {
   "cell_type": "code",
   "execution_count": 56,
   "metadata": {},
   "outputs": [],
   "source": [
    "X = file.drop(['game_victor'], axis=1)\n",
    "y = file['game_victor']\n",
    "lasso = Lasso(alpha =0.002, random_state=1)\n",
    "lasso.fit(X, y)\n",
    "lasso_pred = lasso.predict(X)\n",
    "lasso_pred = pd.DataFrame(lasso_pred)\n",
    "# 保存二元分类结果\n",
    "result = []\n",
    "result = lasso_pred\n",
    "# 在源文件中添加一列\n",
    "file['lasso_game_victor'] = result\n",
    "file.to_csv('./result.csv', index=False)"
   ]
  }
 ],
 "metadata": {
  "kernelspec": {
   "display_name": "crawler",
   "language": "python",
   "name": "python3"
  },
  "language_info": {
   "codemirror_mode": {
    "name": "ipython",
    "version": 3
   },
   "file_extension": ".py",
   "mimetype": "text/x-python",
   "name": "python",
   "nbconvert_exporter": "python",
   "pygments_lexer": "ipython3",
   "version": "3.9.16"
  }
 },
 "nbformat": 4,
 "nbformat_minor": 2
}
